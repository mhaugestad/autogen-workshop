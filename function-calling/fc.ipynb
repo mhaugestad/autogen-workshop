{
 "cells": [
  {
   "cell_type": "code",
   "execution_count": 4,
   "metadata": {},
   "outputs": [],
   "source": [
    "import os, requests, json\n",
    "from dotenv import load_dotenv\n",
    "load_dotenv('../.env')\n",
    "\n",
    "# Pick up list of models to use\n",
    "# Note; order of model matters\n",
    "BING_SUBSCRIPTION_KEY = os.environ['BING_SUBSCRIPTION_KEY']\n",
    "HEADERS = {\"Ocp-Apim-Subscription-Key\": BING_SUBSCRIPTION_KEY}\n",
    "ENDPOINT = \"https://api.bing.microsoft.com/v7.0/search\""
   ]
  },
  {
   "cell_type": "code",
   "execution_count": 22,
   "metadata": {},
   "outputs": [],
   "source": [
    "# Define functions\n",
    "def bing_search(query: str) -> str | None:\n",
    "    params = {\"q\": query, \"count\": 10}\n",
    "    resp = requests.get(ENDPOINT, params=params, headers=HEADERS)\n",
    "    if resp.status_code == 200:\n",
    "        body = resp.json().get(\"webPages\", {\"value\": []}).get(\"value\")\n",
    "        body = list(map(lambda item: {\"name\": item.get(\"name\"), \"url\": item.get(\"url\"), \"snippet\": item.get(\"snippet\")}, body))\n",
    "        formatting = []\n",
    "        for item in body:\n",
    "            formatting.append(\n",
    "                \"\\n\".join([\"{key}: {value}\\n\".format(key=key, value=value) for key, value in item.items()])\n",
    "            )\n",
    "        return \"\\n\\n\".join(formatting)"
   ]
  },
  {
   "cell_type": "code",
   "execution_count": 23,
   "metadata": {},
   "outputs": [],
   "source": [
    "a = bing_search(\"IA generativa sevilla\")"
   ]
  },
  {
   "cell_type": "markdown",
   "metadata": {},
   "source": [
    "# image search"
   ]
  },
  {
   "cell_type": "code",
   "execution_count": 8,
   "metadata": {},
   "outputs": [],
   "source": [
    "ENDPOINT = \"https://api.bing.microsoft.com/v7.0/images/search\""
   ]
  },
  {
   "cell_type": "code",
   "execution_count": 17,
   "metadata": {},
   "outputs": [],
   "source": [
    "# Define functions\n",
    "def bing_image_search(query: str) -> str | None:\n",
    "    params = {\"q\": query, \"count\": 5}\n",
    "    resp = requests.get(ENDPOINT, params=params, headers=HEADERS)\n",
    "    if resp.status_code == 200:\n",
    "        urls = list(map(lambda x: f\"<img {x.get('contentUrl')}>\", resp.json().get(\"value\")))\n",
    "        return \"\\n\".join(urls)"
   ]
  },
  {
   "cell_type": "code",
   "execution_count": 18,
   "metadata": {},
   "outputs": [
    {
     "data": {
      "text/plain": [
       "'<img http://www.adventurouskate.com/wp-content/uploads/2012/03/0321.jpg>\\n<img https://www.shuttledirect.com/blog/wp-content/uploads/2016/07/Fotolia_115134473_Subscription_Monthly_M.jpg>\\n<img https://www.sevillacitycentre.com/wp-content/uploads/2015/03/plaza-de-espana.jpg>\\n<img http://sevillaintercambio.com/wp-content/uploads/Plaza-Espa%C3%B1a-Sevilla.jpg>\\n<img https://miro.medium.com/max/3840/1*OvLj9zZYeXk1OW7t_aEoHA.jpeg>'"
      ]
     },
     "execution_count": 18,
     "metadata": {},
     "output_type": "execute_result"
    }
   ],
   "source": [
    "bing_image_search(\"sevilla\")"
   ]
  },
  {
   "cell_type": "code",
   "execution_count": 9,
   "metadata": {},
   "outputs": [],
   "source": [
    "resp = requests.get(ENDPOINT, params={\"q\": \"Sevilla Centro\", \"count\": 5}, headers=HEADERS)"
   ]
  }
 ],
 "metadata": {
  "kernelspec": {
   "display_name": "autogen",
   "language": "python",
   "name": "python3"
  },
  "language_info": {
   "codemirror_mode": {
    "name": "ipython",
    "version": 3
   },
   "file_extension": ".py",
   "mimetype": "text/x-python",
   "name": "python",
   "nbconvert_exporter": "python",
   "pygments_lexer": "ipython3",
   "version": "3.10.12"
  }
 },
 "nbformat": 4,
 "nbformat_minor": 2
}
