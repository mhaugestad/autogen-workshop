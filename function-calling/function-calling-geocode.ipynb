{
 "cells": [
  {
   "cell_type": "code",
   "execution_count": null,
   "metadata": {},
   "outputs": [],
   "source": [
    "# Original example: https://github.com/microsoft/autogen/blob/main/notebook/agentchat_function_call.ipynb"
   ]
  },
  {
   "cell_type": "code",
   "execution_count": 1,
   "metadata": {},
   "outputs": [],
   "source": [
    "from autogen import config_list_from_json, UserProxyAgent, AssistantAgent\n",
    "from datetime import datetime\n",
    "import os, requests, json"
   ]
  },
  {
   "cell_type": "code",
   "execution_count": 2,
   "metadata": {},
   "outputs": [],
   "source": [
    "# Note; order of model matters\n",
    "config_list = config_list_from_json(\n",
    "    env_or_file = \"../OAI_CONFIG_LIST\",\n",
    "    filter_dict = {\"model\": [\"gpt4-autogen\", \"gpt-4\", \"azuregpt\", \"gpt-3.5-turbo\"]}\n",
    ")"
   ]
  },
  {
   "cell_type": "code",
   "execution_count": 3,
   "metadata": {},
   "outputs": [],
   "source": [
    "# Define functions\n",
    "def address_search(query: str) -> str | None:\n",
    "    params = {\"q\": query}\n",
    "    resp = requests.get(\"https://geocode.maps.co/search\", params=params)\n",
    "    if resp.status_code == 200:\n",
    "        return resp.text"
   ]
  },
  {
   "cell_type": "code",
   "execution_count": 4,
   "metadata": {},
   "outputs": [],
   "source": [
    "llm_config = {\n",
    "    \"functions\": [\n",
    "        {\n",
    "            \"name\": \"address-search\",\n",
    "            \"description\": \"Will give you a list of geocodes matching an address query. Use this to get the geocoordinates of any address or place.\",\n",
    "            \"parameters\": {\n",
    "                \"type\": \"object\",\n",
    "                \"properties\": {\n",
    "                    \"query\": {\n",
    "                        \"type\": \"string\",\n",
    "                        \"description\": \"An address, city, place or location\",\n",
    "                    }\n",
    "                },\n",
    "                \"required\": [\"query\"],\n",
    "            },\n",
    "        }\n",
    "    ],\n",
    "    \"config_list\": config_list,\n",
    "    \"timeout\": 120,\n",
    "}"
   ]
  },
  {
   "cell_type": "code",
   "execution_count": 5,
   "metadata": {},
   "outputs": [],
   "source": [
    "user_proxy = UserProxyAgent(\n",
    "    name=\"user_proxy\",\n",
    "    is_termination_msg=lambda x: x.get(\"content\", \"\") and x.get(\"content\", \"\").rstrip().endswith(\"TERMINATE\"),\n",
    "    human_input_mode=\"ALWAYS\",\n",
    "    max_consecutive_auto_reply=10\n",
    "    )"
   ]
  },
  {
   "cell_type": "code",
   "execution_count": 6,
   "metadata": {},
   "outputs": [],
   "source": [
    "# register the functions\n",
    "user_proxy.register_function(\n",
    "    function_map={\n",
    "        \"address-search\": address_search,\n",
    "    }\n",
    ")"
   ]
  },
  {
   "cell_type": "code",
   "execution_count": 7,
   "metadata": {},
   "outputs": [],
   "source": [
    "chatbot = AssistantAgent(\n",
    "    name=\"chatbot\",\n",
    "    #system_message=\"For research tasks, only use the functions you have been provided with. Reply TERMINATE when the task is done.\",\n",
    "    llm_config=llm_config,\n",
    ")"
   ]
  },
  {
   "cell_type": "code",
   "execution_count": 8,
   "metadata": {},
   "outputs": [
    {
     "name": "stdout",
     "output_type": "stream",
     "text": [
      "\u001b[33muser_proxy\u001b[0m (to chatbot):\n",
      "\n",
      "What is the distance between the Munch museum in Oslo and Giralda, the cathedral in Seville, Spain in metres?\n",
      "\n",
      "--------------------------------------------------------------------------------\n",
      "\u001b[33mchatbot\u001b[0m (to user_proxy):\n",
      "\n",
      "\u001b[32m***** Suggested function Call: address-search *****\u001b[0m\n",
      "Arguments: \n",
      "{\"query\":\"Munch museum, Oslo\"}\n",
      "\u001b[32m***************************************************\u001b[0m\n",
      "\n",
      "--------------------------------------------------------------------------------\n",
      "\u001b[31m\n",
      ">>>>>>>> NO HUMAN INPUT RECEIVED.\u001b[0m\n",
      "\u001b[31m\n",
      ">>>>>>>> USING AUTO REPLY...\u001b[0m\n",
      "\u001b[35m\n",
      ">>>>>>>> EXECUTING FUNCTION address-search...\u001b[0m\n",
      "\u001b[33muser_proxy\u001b[0m (to chatbot):\n",
      "\n",
      "\u001b[32m***** Response from calling function \"address-search\" *****\u001b[0m\n",
      "[{\"place_id\":217363540,\"licence\":\"Data © OpenStreetMap contributors, ODbL 1.0. https://osm.org/copyright\",\"powered_by\":\"Map Maker: https://maps.co\",\"osm_type\":\"way\",\"osm_id\":545260792,\"boundingbox\":[\"59.9052701\",\"59.9061782\",\"10.7545583\",\"10.7559512\"],\"lat\":\"59.905623899999995\",\"lon\":\"10.755155448278213\",\"display_name\":\"MUNCH, 1, Edvard Munch plass, Sørengkaia, Gamle Oslo, Oslo, 0140, Norway\",\"class\":\"tourism\",\"type\":\"museum\",\"importance\":0.6040523387717083},{\"place_id\":287979236,\"licence\":\"Data © OpenStreetMap contributors, ODbL 1.0. https://osm.org/copyright\",\"powered_by\":\"Map Maker: https://maps.co\",\"osm_type\":\"relation\",\"osm_id\":5397715,\"boundingbox\":[\"59.9165999\",\"59.9173438\",\"10.7735428\",\"10.7752672\"],\"lat\":\"59.917021950000006\",\"lon\":\"10.774357657409954\",\"display_name\":\"Oslo Kommune vaccination centre, Tøyengata, Tøyen, Gamle Oslo, Oslo, 0577, Norway\",\"class\":\"building\",\"type\":\"yes\",\"importance\":0.11100000000000002}]\n",
      "\u001b[32m***********************************************************\u001b[0m\n",
      "\n",
      "--------------------------------------------------------------------------------\n",
      "\u001b[33mchatbot\u001b[0m (to user_proxy):\n",
      "\n",
      "\u001b[32m***** Suggested function Call: address-search *****\u001b[0m\n",
      "Arguments: \n",
      "{\"query\":\"Giralda, Seville, Spain\"}\n",
      "\u001b[32m***************************************************\u001b[0m\n",
      "\n",
      "--------------------------------------------------------------------------------\n",
      "\u001b[31m\n",
      ">>>>>>>> NO HUMAN INPUT RECEIVED.\u001b[0m\n",
      "\u001b[31m\n",
      ">>>>>>>> USING AUTO REPLY...\u001b[0m\n",
      "\u001b[35m\n",
      ">>>>>>>> EXECUTING FUNCTION address-search...\u001b[0m\n",
      "\u001b[33muser_proxy\u001b[0m (to chatbot):\n",
      "\n",
      "\u001b[32m***** Response from calling function \"address-search\" *****\u001b[0m\n",
      "[{\"place_id\":177791127,\"licence\":\"Data © OpenStreetMap contributors, ODbL 1.0. https://osm.org/copyright\",\"powered_by\":\"Map Maker: https://maps.co\",\"osm_type\":\"way\",\"osm_id\":310065910,\"boundingbox\":[\"37.3861194\",\"37.3862586\",\"-5.9926385\",\"-5.9924677\"],\"lat\":\"37.386207\",\"lon\":\"-5.9925557261986295\",\"display_name\":\"La Giralda, Plaza Virgen de los Reyes, Santa Cruz, Casco Antiguo, Seville, Sevilla, Andalusia, 41004, Spain\",\"class\":\"man_made\",\"type\":\"tower\",\"importance\":0.7320656520386132},{\"place_id\":56057092,\"licence\":\"Data © OpenStreetMap contributors, ODbL 1.0. https://osm.org/copyright\",\"powered_by\":\"Map Maker: https://maps.co\",\"osm_type\":\"node\",\"osm_id\":4893960422,\"boundingbox\":[\"37.3861402\",\"37.3862402\",\"-5.9925713\",\"-5.9924713\"],\"lat\":\"37.3861902\",\"lon\":\"-5.9925213\",\"display_name\":\"La Giralda, Plaza Virgen de los Reyes, Santa Cruz, Casco Antiguo, Seville, Sevilla, Andalusia, 41004, Spain\",\"class\":\"tourism\",\"type\":\"attraction\",\"importance\":0.32100000000000006}]\n",
      "\u001b[32m***********************************************************\u001b[0m\n",
      "\n",
      "--------------------------------------------------------------------------------\n",
      "\u001b[33mchatbot\u001b[0m (to user_proxy):\n",
      "\n",
      "Now that we have the geocoordinates for both the Munch Museum in Oslo (latitude: 59.9056239, longitude: 10.7551554) and the Giralda tower in Seville (latitude: 37.386207, longitude: -5.9925557), we can calculate the distance between these two points using the haversine formula, which is used to determine the great-circle distance between two points on a sphere given their longitudes and latitudes.\n",
      "\n",
      "I will provide the Python code to calculate this distance. Please, execute the following Python code:\n",
      "\n",
      "```python\n",
      "from math import radians, cos, sin, asin, sqrt\n",
      "\n",
      "def haversine(lon1, lat1, lon2, lat2):\n",
      "    \"\"\"\n",
      "    Calculate the great circle distance between two points \n",
      "    on the Earth (specified in decimal degrees)\n",
      "    \"\"\"\n",
      "    # convert decimal degrees to radians \n",
      "    lon1, lat1, lon2, lat2 = map(radians, [lon1, lat1, lon2, lat2])\n",
      "\n",
      "    # haversine formula \n",
      "    dlon = lon2 - lon1 \n",
      "    dlat = lat2 - lat1 \n",
      "    a = sin(dlat/2)**2 + cos(lat1) * cos(lat2) * sin(dlon/2)**2\n",
      "    c = 2 * asin(sqrt(a)) \n",
      "    r = 6371000 # Radius of Earth in meters. Use 3956 for miles\n",
      "    return c * r\n",
      "\n",
      "munch_museum_coords = (10.7551554, 59.9056239)\n",
      "giralda_coords = (-5.9925557, 37.386207)\n",
      "\n",
      "distance_meters = haversine(munch_museum_coords[0], munch_museum_coords[1], giralda_coords[0], giralda_coords[1])\n",
      "\n",
      "print(f\"The distance between the Munch Museum in Oslo and Giralda in Seville is: {distance_meters:.2f} meters\")\n",
      "```\n",
      "\n",
      "This code will calculate and print the distance in meters between the Munch Museum in Oslo and the Giralda tower in Seville, Spain.\n",
      "\n",
      "--------------------------------------------------------------------------------\n",
      "\u001b[31m\n",
      ">>>>>>>> NO HUMAN INPUT RECEIVED.\u001b[0m\n",
      "\u001b[31m\n",
      ">>>>>>>> USING AUTO REPLY...\u001b[0m\n",
      "\u001b[31m\n",
      ">>>>>>>> EXECUTING CODE BLOCK 0 (inferred language is python)...\u001b[0m\n"
     ]
    },
    {
     "name": "stderr",
     "output_type": "stream",
     "text": [
      "execute_code was called without specifying a value for use_docker. Since the python docker package is not available, code will be run natively. Note: this fallback behavior is subject to change\n"
     ]
    },
    {
     "name": "stdout",
     "output_type": "stream",
     "text": [
      "\u001b[33muser_proxy\u001b[0m (to chatbot):\n",
      "\n",
      "exitcode: 0 (execution succeeded)\n",
      "Code output: \n",
      "The distance between the Munch Museum in Oslo and Giralda in Seville is: 2771684.29 meters\n",
      "\n",
      "\n",
      "--------------------------------------------------------------------------------\n",
      "\u001b[33mchatbot\u001b[0m (to user_proxy):\n",
      "\n",
      "The distance between the Munch Museum in Oslo and the Giralda tower in Seville is approximately 2,771,684.29 meters (or about 2,771 kilometers).\n",
      "\n",
      "If you need any further assistance, feel free to ask. Otherwise, is there anything else I can help you with today?\n",
      "\n",
      "TERMINATE\n",
      "\n",
      "--------------------------------------------------------------------------------\n"
     ]
    }
   ],
   "source": [
    "# start the conversation\n",
    "user_proxy.initiate_chat(\n",
    "    chatbot,\n",
    "    message=\"What is the distance between the Munch museum in Oslo and Giralda, the cathedral in Seville, Spain in metres?\",\n",
    "    clear_history=False\n",
    ")"
   ]
  }
 ],
 "metadata": {
  "kernelspec": {
   "display_name": "autogen",
   "language": "python",
   "name": "python3"
  },
  "language_info": {
   "codemirror_mode": {
    "name": "ipython",
    "version": 3
   },
   "file_extension": ".py",
   "mimetype": "text/x-python",
   "name": "python",
   "nbconvert_exporter": "python",
   "pygments_lexer": "ipython3",
   "version": "3.10.0"
  }
 },
 "nbformat": 4,
 "nbformat_minor": 2
}
