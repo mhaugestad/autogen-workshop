{
 "cells": [
  {
   "cell_type": "code",
   "execution_count": null,
   "metadata": {},
   "outputs": [],
   "source": [
    "# Original example: https://github.com/microsoft/autogen/blob/main/notebook/agentchat_function_call.ipynb"
   ]
  },
  {
   "cell_type": "code",
   "execution_count": 1,
   "metadata": {},
   "outputs": [],
   "source": [
    "from autogen import config_list_from_json, UserProxyAgent, AssistantAgent\n",
    "from datetime import datetime\n",
    "import os, requests, json"
   ]
  },
  {
   "cell_type": "code",
   "execution_count": 2,
   "metadata": {},
   "outputs": [],
   "source": [
    "# Note; order of model matters\n",
    "config_list = config_list_from_json(\n",
    "    env_or_file = \"../OAI_CONFIG_LIST\",\n",
    "    filter_dict = {\"model\": [\"gpt-4\", \"gpt4-autogen\", \"gpt-3.5-turbo\", \"azuregpt\"]}\n",
    ")"
   ]
  },
  {
   "cell_type": "code",
   "execution_count": 4,
   "metadata": {},
   "outputs": [],
   "source": [
    "# Define functions\n",
    "def address_search(query: str) -> str | None:\n",
    "    params = {\"q\": query}\n",
    "    resp = requests.get(\"https://geocode.maps.co/search\", params=params)\n",
    "    if resp.status_code == 200:\n",
    "        return resp.text"
   ]
  },
  {
   "cell_type": "code",
   "execution_count": 5,
   "metadata": {},
   "outputs": [],
   "source": [
    "llm_config = {\n",
    "    \"functions\": [\n",
    "        {\n",
    "            \"name\": \"address-search\",\n",
    "            \"description\": \"Will give you a list of geocodes matching an address query. Use this to get the geocoordinates of any address or place.\",\n",
    "            \"parameters\": {\n",
    "                \"type\": \"object\",\n",
    "                \"properties\": {\n",
    "                    \"query\": {\n",
    "                        \"type\": \"string\",\n",
    "                        \"description\": \"An address, city, place or location\",\n",
    "                    }\n",
    "                },\n",
    "                \"required\": [\"query\"],\n",
    "            },\n",
    "        }\n",
    "    ],\n",
    "    \"config_list\": config_list,\n",
    "    \"timeout\": 120,\n",
    "}"
   ]
  },
  {
   "cell_type": "code",
   "execution_count": 6,
   "metadata": {},
   "outputs": [],
   "source": [
    "user_proxy = UserProxyAgent(\n",
    "    name=\"user_proxy\",\n",
    "    is_termination_msg=lambda x: x.get(\"content\", \"\") and x.get(\"content\", \"\").rstrip().endswith(\"TERMINATE\"),\n",
    "    human_input_mode=\"ALWAYS\",\n",
    "    max_consecutive_auto_reply=10\n",
    "    )"
   ]
  },
  {
   "cell_type": "code",
   "execution_count": 7,
   "metadata": {},
   "outputs": [],
   "source": [
    "# register the functions\n",
    "user_proxy.register_function(\n",
    "    function_map={\n",
    "        \"address-search\": address_search,\n",
    "    }\n",
    ")"
   ]
  },
  {
   "cell_type": "code",
   "execution_count": 8,
   "metadata": {},
   "outputs": [],
   "source": [
    "chatbot = AssistantAgent(\n",
    "    name=\"chatbot\",\n",
    "    #system_message=\"For research tasks, only use the functions you have been provided with. Reply TERMINATE when the task is done.\",\n",
    "    llm_config=llm_config,\n",
    ")"
   ]
  },
  {
   "cell_type": "code",
   "execution_count": 9,
   "metadata": {},
   "outputs": [
    {
     "name": "stdout",
     "output_type": "stream",
     "text": [
      "\u001b[33muser_proxy\u001b[0m (to chatbot):\n",
      "\n",
      "What is the distance between the Munch museum in Oslo and Giralda, the cathedral in Seville, Spain in metres?\n",
      "\n",
      "--------------------------------------------------------------------------------\n",
      "\u001b[33mchatbot\u001b[0m (to user_proxy):\n",
      "\n",
      "\u001b[32m***** Suggested function Call: address-search *****\u001b[0m\n",
      "Arguments: \n",
      "{\n",
      "  \"query\": \"Munch museum in Oslo\"\n",
      "}\n",
      "\u001b[32m***************************************************\u001b[0m\n",
      "\n",
      "--------------------------------------------------------------------------------\n",
      "\u001b[31m\n",
      ">>>>>>>> NO HUMAN INPUT RECEIVED.\u001b[0m\n",
      "\u001b[31m\n",
      ">>>>>>>> USING AUTO REPLY...\u001b[0m\n",
      "\u001b[35m\n",
      ">>>>>>>> EXECUTING FUNCTION address-search...\u001b[0m\n",
      "\u001b[33muser_proxy\u001b[0m (to chatbot):\n",
      "\n",
      "\u001b[32m***** Response from calling function \"address-search\" *****\u001b[0m\n",
      "[{\"place_id\":217363540,\"licence\":\"Data © OpenStreetMap contributors, ODbL 1.0. https://osm.org/copyright\",\"powered_by\":\"Map Maker: https://maps.co\",\"osm_type\":\"way\",\"osm_id\":545260792,\"boundingbox\":[\"59.9052701\",\"59.9061782\",\"10.7545583\",\"10.7559512\"],\"lat\":\"59.905623899999995\",\"lon\":\"10.755155448278213\",\"display_name\":\"MUNCH, 1, Edvard Munch plass, Sørengkaia, Gamle Oslo, Oslo, 0140, Norway\",\"class\":\"tourism\",\"type\":\"museum\",\"importance\":0.6040523387717083}]\n",
      "\u001b[32m***********************************************************\u001b[0m\n",
      "\n",
      "--------------------------------------------------------------------------------\n",
      "\u001b[33mchatbot\u001b[0m (to user_proxy):\n",
      "\n",
      "\u001b[32m***** Suggested function Call: address-search *****\u001b[0m\n",
      "Arguments: \n",
      "{\n",
      "  \"query\": \"Giralda, Seville, Spain\"\n",
      "}\n",
      "\u001b[32m***************************************************\u001b[0m\n",
      "\n",
      "--------------------------------------------------------------------------------\n",
      "\u001b[31m\n",
      ">>>>>>>> NO HUMAN INPUT RECEIVED.\u001b[0m\n",
      "\u001b[31m\n",
      ">>>>>>>> USING AUTO REPLY...\u001b[0m\n",
      "\u001b[35m\n",
      ">>>>>>>> EXECUTING FUNCTION address-search...\u001b[0m\n",
      "\u001b[33muser_proxy\u001b[0m (to chatbot):\n",
      "\n",
      "\u001b[32m***** Response from calling function \"address-search\" *****\u001b[0m\n",
      "[{\"place_id\":177791127,\"licence\":\"Data © OpenStreetMap contributors, ODbL 1.0. https://osm.org/copyright\",\"powered_by\":\"Map Maker: https://maps.co\",\"osm_type\":\"way\",\"osm_id\":310065910,\"boundingbox\":[\"37.3861194\",\"37.3862586\",\"-5.9926385\",\"-5.9924677\"],\"lat\":\"37.386207\",\"lon\":\"-5.9925557261986295\",\"display_name\":\"La Giralda, Plaza Virgen de los Reyes, Santa Cruz, Casco Antiguo, Seville, Sevilla, Andalusia, 41004, Spain\",\"class\":\"man_made\",\"type\":\"tower\",\"importance\":0.7320656520386132},{\"place_id\":56057092,\"licence\":\"Data © OpenStreetMap contributors, ODbL 1.0. https://osm.org/copyright\",\"powered_by\":\"Map Maker: https://maps.co\",\"osm_type\":\"node\",\"osm_id\":4893960422,\"boundingbox\":[\"37.3861402\",\"37.3862402\",\"-5.9925713\",\"-5.9924713\"],\"lat\":\"37.3861902\",\"lon\":\"-5.9925213\",\"display_name\":\"La Giralda, Plaza Virgen de los Reyes, Santa Cruz, Casco Antiguo, Seville, Sevilla, Andalusia, 41004, Spain\",\"class\":\"tourism\",\"type\":\"attraction\",\"importance\":0.32100000000000006}]\n",
      "\u001b[32m***********************************************************\u001b[0m\n",
      "\n",
      "--------------------------------------------------------------------------------\n",
      "\u001b[33mchatbot\u001b[0m (to user_proxy):\n",
      "\n",
      "We have the geographic coordinates for both the Munch museum in Oslo (latitude: 59.905623899999995, longitude: 10.755155448278213) and Giralda, the cathedral in Seville, Spain (latitude: 37.386207, longitude: -5.9925557261986295).\n",
      "\n",
      "Now, let's calculate the distance between these two points in metres using the haversine formula. The formula provides an approximation of the great-circle distance between two points on the spherical surface of the Earth, which is quite suitable for our needs. \n",
      "\n",
      "Let's write a Python script to do this calculation.\n",
      "\u001b[32m***** Suggested function Call: python *****\u001b[0m\n",
      "Arguments: \n",
      "import math\n",
      "\n",
      "# coordinates for Munch Museum in Oslo and Giralda in Seville\n",
      "coords_munch_museum = [59.905623899999995, 10.755155448278213]\n",
      "coords_giralda = [37.386207, -5.9925557261986295]\n",
      "\n",
      "# convert latitude and longitude from degrees to radians\n",
      "lat1, long1, lat2, long2 = map(math.radians, [coords_munch_museum[0], coords_munch_museum[1], coords_giralda[0], coords_giralda[1]])\n",
      "\n",
      "# haversine formula to calculate the distance between two points on Earth's surface\n",
      "a = math.sin((lat2 - lat1) / 2)**2 + math.cos(lat1) * math.cos(lat2) * math.sin((long2 - long1) / 2)**2\n",
      "c = 2 * math.atan2(math.sqrt(a), math.sqrt(1 - a))\n",
      "\n",
      "# Earth's radius in metres\n",
      "radius_earth = 6371000\n",
      "\n",
      "# calculate the distance\n",
      "distance = radius_earth * c\n",
      "\n",
      "print(f\"The distance between the Munch museum in Oslo and Giralda, the cathedral in Seville, Spain is {distance} metres.\")\n",
      "\u001b[32m*******************************************\u001b[0m\n",
      "\n",
      "--------------------------------------------------------------------------------\n",
      "\u001b[31m\n",
      ">>>>>>>> NO HUMAN INPUT RECEIVED.\u001b[0m\n",
      "\u001b[31m\n",
      ">>>>>>>> USING AUTO REPLY...\u001b[0m\n",
      "\u001b[33muser_proxy\u001b[0m (to chatbot):\n",
      "\n",
      "\u001b[32m***** Response from calling function \"python\" *****\u001b[0m\n",
      "Error: Function python not found.\n",
      "\u001b[32m***************************************************\u001b[0m\n",
      "\n",
      "--------------------------------------------------------------------------------\n",
      "\u001b[33mchatbot\u001b[0m (to user_proxy):\n",
      "\n",
      "I'm sorry, but I am not currently able to execute Python code in this environment. \n",
      "\n",
      "If you wish to run this Python in your local environment, please follow these steps:\n",
      "\n",
      "1. Copy the Python code provided\n",
      "2. Open a new Python file or an interactive Python session (like Jupyter notebook or a Python IDLE)\n",
      "3. Paste the copied code\n",
      "4. Execute the code\n",
      "\n",
      "This will give you the distance (in meters) between the Munch museum in Oslo and Giralda, the cathedral in Seville, Spain. \n",
      "\n",
      "Here is the Python code for you to run:\n",
      "\n",
      "```python\n",
      "import math\n",
      "\n",
      "# coordinates for Munch Museum in Oslo and Giralda in Seville\n",
      "coords_munch_museum = [59.905623899999995, 10.755155448278213]\n",
      "coords_giralda = [37.386207, -5.9925557261986295]\n",
      "\n",
      "# convert latitude and longitude from degrees to radians\n",
      "lat1, long1, lat2, long2 = map(math.radians, [coords_munch_museum[0], coords_munch_museum[1], coords_giralda[0], coords_giralda[1]])\n",
      "\n",
      "# haversine formula to calculate the distance between two points on Earth's surface\n",
      "a = math.sin((lat2 - lat1) / 2)**2 + math.cos(lat1) * math.cos(lat2) * math.sin((long2 - long1) / 2)**2\n",
      "c = 2 * math.atan2(math.sqrt(a), math.sqrt(1 - a))\n",
      "\n",
      "# Earth's radius in metres\n",
      "radius_earth = 6371000\n",
      "\n",
      "# calculate the distance\n",
      "distance = radius_earth * c\n",
      "\n",
      "print(f\"The distance between the Munch museum in Oslo and Giralda, the cathedral in Seville, Spain is {distance} metres.\")\n",
      "```    \n",
      "\n",
      "Make sure that you have the `math` module available. If not, install it using pip:\n",
      "\n",
      "```shell\n",
      "pip install math\n",
      "```\n",
      "\n",
      "--------------------------------------------------------------------------------\n",
      "\u001b[31m\n",
      ">>>>>>>> NO HUMAN INPUT RECEIVED.\u001b[0m\n",
      "\u001b[31m\n",
      ">>>>>>>> USING AUTO REPLY...\u001b[0m\n",
      "\u001b[31m\n",
      ">>>>>>>> EXECUTING CODE BLOCK 0 (inferred language is python)...\u001b[0m\n"
     ]
    },
    {
     "name": "stderr",
     "output_type": "stream",
     "text": [
      "execute_code was called without specifying a value for use_docker. Since the python docker package is not available, code will be run natively. Note: this fallback behavior is subject to change\n"
     ]
    },
    {
     "name": "stdout",
     "output_type": "stream",
     "text": [
      "\u001b[31m\n",
      ">>>>>>>> EXECUTING CODE BLOCK 1 (inferred language is shell)...\u001b[0m\n"
     ]
    },
    {
     "name": "stderr",
     "output_type": "stream",
     "text": [
      "execute_code was called without specifying a value for use_docker. Since the python docker package is not available, code will be run natively. Note: this fallback behavior is subject to change\n"
     ]
    },
    {
     "name": "stdout",
     "output_type": "stream",
     "text": [
      "\u001b[33muser_proxy\u001b[0m (to chatbot):\n",
      "\n",
      "exitcode: 1 (execution failed)\n",
      "Code output: \n",
      "The distance between the Munch museum in Oslo and Giralda, the cathedral in Seville, Spain is 2771684.2929929406 metres.\n",
      "\n",
      "\u001b[31mERROR: Could not find a version that satisfies the requirement math (from versions: none)\u001b[0m\u001b[31m\n",
      "\u001b[0m\u001b[31mERROR: No matching distribution found for math\u001b[0m\u001b[31m\n",
      "\u001b[0m\n",
      "\n",
      "--------------------------------------------------------------------------------\n",
      "\u001b[33mchatbot\u001b[0m (to user_proxy):\n",
      "\n",
      "My apologies for the confusion. The `math` module is actually a built-in module in Python and does not need to be installed separately. That's why attempting to install it with `pip install math` yielded an error.\n",
      "\n",
      "According to the result from your Python code execution, the distance between the Munch museum in Oslo and Giralda, the cathedral in Seville, Spain is approximately 2,771,684.29 meters (or around 2,771 kilometers when rounded).\n",
      "\n",
      "Please let me know if you need more assistance with this or any other questions.\n",
      "\n",
      "--------------------------------------------------------------------------------\n"
     ]
    }
   ],
   "source": [
    "# start the conversation\n",
    "user_proxy.initiate_chat(\n",
    "    chatbot,\n",
    "    message=\"What is the distance between the Munch museum in Oslo and Giralda, the cathedral in Seville, Spain in metres?\",\n",
    "    clear_history=False\n",
    ")"
   ]
  }
 ],
 "metadata": {
  "kernelspec": {
   "display_name": "autogen",
   "language": "python",
   "name": "python3"
  },
  "language_info": {
   "codemirror_mode": {
    "name": "ipython",
    "version": 3
   },
   "file_extension": ".py",
   "mimetype": "text/x-python",
   "name": "python",
   "nbconvert_exporter": "python",
   "pygments_lexer": "ipython3",
   "version": "3.10.12"
  }
 },
 "nbformat": 4,
 "nbformat_minor": 2
}
