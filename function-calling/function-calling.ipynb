{
 "cells": [
  {
   "cell_type": "code",
   "execution_count": null,
   "metadata": {},
   "outputs": [],
   "source": [
    "# Original example: https://github.com/microsoft/autogen/blob/main/notebook/agentchat_function_call.ipynb"
   ]
  },
  {
   "cell_type": "code",
   "execution_count": 1,
   "metadata": {},
   "outputs": [
    {
     "data": {
      "text/plain": [
       "True"
      ]
     },
     "execution_count": 1,
     "metadata": {},
     "output_type": "execute_result"
    }
   ],
   "source": [
    "from autogen import config_list_from_json, UserProxyAgent, AssistantAgent\n",
    "from datetime import datetime\n",
    "import os, requests, json\n",
    "from dotenv import load_dotenv\n",
    "load_dotenv('../.env')"
   ]
  },
  {
   "cell_type": "code",
   "execution_count": 2,
   "metadata": {},
   "outputs": [],
   "source": [
    "# Pick up list of models to use\n",
    "# Note; order of model matters\n",
    "config_list = config_list_from_json(env_or_file = \"../OAI_CONFIG_LIST\")"
   ]
  },
  {
   "cell_type": "code",
   "execution_count": 3,
   "metadata": {},
   "outputs": [],
   "source": [
    "BING_SUBSCRIPTION_KEY = os.environ['BING_SUBSCRIPTION_KEY']\n",
    "HEADERS = {\"Ocp-Apim-Subscription-Key\": BING_SUBSCRIPTION_KEY}\n",
    "ENDPOINT = \"https://api.bing.microsoft.com/v7.0/search\""
   ]
  },
  {
   "cell_type": "code",
   "execution_count": 4,
   "metadata": {},
   "outputs": [],
   "source": [
    "# Define functions\n",
    "def bing_search(query: str) -> str | None:\n",
    "    params = {\"q\": query, \"count\": 10}\n",
    "    resp = requests.get(ENDPOINT, params=params, headers=HEADERS)\n",
    "    if resp.status_code == 200:\n",
    "        body = resp.json().get(\"webPages\", {\"value\": []}).get(\"value\")\n",
    "        body = list(map(lambda item: {\"name\": item.get(\"name\"), \"url\": item.get(\"url\"), \"snippet\": item.get(\"snippet\")}, body))\n",
    "        formatting = []\n",
    "        for item in body:\n",
    "            formatting.append(\n",
    "                \"\\n\".join([\"{key}: {value}\\n\".format(key=key, value=value) for key, value in item.items()])\n",
    "            )\n",
    "        return \"\\n\\n\".join(formatting)"
   ]
  },
  {
   "cell_type": "code",
   "execution_count": 6,
   "metadata": {},
   "outputs": [
    {
     "name": "stdout",
     "output_type": "stream",
     "text": [
      "name: Seville - Wikipedia\n",
      "\n",
      "url: https://en.wikipedia.org/wiki/Seville\n",
      "\n",
      "snippet: Seville is the capital and largest city of Andalusia, the fourth-largest city in Spain and the 26th most populous municipality in the EU. It has a rich history as a Roman, Moorish, Christian and Spanish city, with a UNESCO World Heritage Site of three buildings: the Alcázar palace complex, the Cathedral and the General Archive of the Indies. It is also known as the \\\"Pearl of Andalusia\\\" for its cultural and economic achievements.\n",
      "\n",
      "\n",
      "name: Sevilla FC - Wikipedia\n",
      "\n",
      "url: https://en.wikipedia.org/wiki/Sevilla_FC\n",
      "\n",
      "snippet: Sevilla FC is a Spanish professional football club based in Seville, the capital and largest city of the autonomous community of Andalusia. It plays in La Liga and has won the UEFA Cup/Europa League seven times, the most of any club. It is Spain's oldest sporting club devoted to football and the most successful in Andalusia.\n",
      "\n",
      "\n",
      "name: THE 10 BEST Things to Do in Seville - Tripadvisor\n",
      "\n",
      "url: https://www.tripadvisor.co.uk/Attractions-g187443-Activities-Seville_Province_of_Seville_Andalucia.html\n",
      "\n",
      "snippet: Things to Do in Seville Popular things to do City Tours Walking Tours Architectural Buildings Cultural Tours Half-day Tours Sacred & Religious Sites Skip the line Tickets Bus Tours Historic Sites Full-day Tours Self-guided Tours Speciality Museums Segway Tours City Packages Points of Interest & Landmarks Bike Rentals Night Tours\n",
      "\n",
      "\n",
      "name: Best 20 things to do in Seville - Lonely Planet\n",
      "\n",
      "url: https://www.lonelyplanet.com/articles/top-things-to-do-in-seville\n",
      "\n",
      "snippet: This is one of Seville’s most romantic activities; reserve a slot at dusk before a late-night meal. 3. Tour the rooftop of the largest Gothic cathedral in the world. The Catedral de Santa María de la Sede is a staggering affair that melds Gothic, Renaissance and Moorish architecture.\n",
      "\n",
      "\n",
      "name: Welcome to Seville - THE TOURISM WEBSITE OF SEVILLE\n",
      "\n",
      "url: https://welcometoseville.com/\n",
      "\n",
      "snippet: Visit Seville and explore the rich, intimate streets of the city, become captivated by the immemorial culture surrounding you, and fall in love with heart of Andalucia. Discover a city brimming with life and history and learn how its evolved through the centuries and inspired the rest of the world. The city of Seville is a welcoming one and ...\n",
      "\n",
      "\n",
      "name: Seville travel guide: everything you need to know - The Times\n",
      "\n",
      "url: https://www.thetimes.co.uk/travel/destinations/europe/spain/seville/\n",
      "\n",
      "snippet: Sun-soaked Seville is an intoxicating mix of history, elegance and vivacious locals who know how to live the good life. Every street reflects a crossing of cultures and times, from the 500 years ...\n",
      "\n"
     ]
    }
   ],
   "source": [
    "print(bing_search(query=\"Sevilla\")[0:1])"
   ]
  },
  {
   "cell_type": "code",
   "execution_count": 5,
   "metadata": {},
   "outputs": [],
   "source": [
    "llm_config = {\n",
    "    \"functions\": [\n",
    "        {\n",
    "            \"name\": \"bing-search\",\n",
    "            \"description\": \"Websearch using bing - will return title, snippet and url for the first 10 results\",\n",
    "            \"parameters\": {\n",
    "                \"type\": \"object\",\n",
    "                \"properties\": {\n",
    "                    \"query\": {\n",
    "                        \"type\": \"string\",\n",
    "                        \"description\": \"A search query\",\n",
    "                    }\n",
    "                },\n",
    "                \"required\": [\"query\"],\n",
    "            },\n",
    "        }\n",
    "    ],\n",
    "    \"config_list\": config_list,\n",
    "    \"timeout\": 120,\n",
    "}"
   ]
  },
  {
   "cell_type": "code",
   "execution_count": 6,
   "metadata": {},
   "outputs": [],
   "source": [
    "user_proxy = UserProxyAgent(\n",
    "    name=\"user_proxy\",\n",
    "    is_termination_msg=lambda x: x.get(\"content\", \"\") and x.get(\"content\", \"\").rstrip().endswith(\"TERMINATE\"),\n",
    "    human_input_mode=\"ALWAYS\",\n",
    "    max_consecutive_auto_reply=10\n",
    "    )"
   ]
  },
  {
   "cell_type": "code",
   "execution_count": 7,
   "metadata": {},
   "outputs": [],
   "source": [
    "# register the functions\n",
    "user_proxy.register_function(\n",
    "    function_map={\n",
    "        \"bing-search\": bing_search,\n",
    "    }\n",
    ")"
   ]
  },
  {
   "cell_type": "code",
   "execution_count": 8,
   "metadata": {},
   "outputs": [],
   "source": [
    "chatbot = AssistantAgent(\n",
    "    name=\"chatbot\",\n",
    "    system_message=\"For research tasks, only use the functions you have been provided with. Reply TERMINATE when the task is done.\",\n",
    "    llm_config=llm_config,\n",
    ")"
   ]
  },
  {
   "cell_type": "code",
   "execution_count": 9,
   "metadata": {},
   "outputs": [
    {
     "name": "stdout",
     "output_type": "stream",
     "text": [
      "\u001b[33muser_proxy\u001b[0m (to chatbot):\n",
      "\n",
      "What is the main focus of the group 'IA Generativa Sevilla'?\n",
      "\n",
      "--------------------------------------------------------------------------------\n",
      "\u001b[33mchatbot\u001b[0m (to user_proxy):\n",
      "\n",
      "\u001b[32m***** Suggested function Call: bing-search *****\u001b[0m\n",
      "Arguments: \n",
      "{\n",
      "  \"query\": \"IA Generativa Sevilla main focus\"\n",
      "}\n",
      "\u001b[32m************************************************\u001b[0m\n",
      "\n",
      "--------------------------------------------------------------------------------\n",
      "\u001b[31m\n",
      ">>>>>>>> NO HUMAN INPUT RECEIVED.\u001b[0m\n",
      "\u001b[31m\n",
      ">>>>>>>> USING AUTO REPLY...\u001b[0m\n",
      "\u001b[35m\n",
      ">>>>>>>> EXECUTING FUNCTION bing-search...\u001b[0m\n",
      "\u001b[33muser_proxy\u001b[0m (to chatbot):\n",
      "\n",
      "\u001b[32m***** Response from calling function \"bing-search\" *****\u001b[0m\n",
      "name: Generative artificial intelligence - Wikipedia\n",
      "\n",
      "url: https://en.wikipedia.org/wiki/Generative_artificial_intelligence\n",
      "\n",
      "snippet: Artificial Intelligence is an idea that has been captivating society since the mid-20th century. It began with science fiction familiarizing the world with the concept but the idea wasn't fully seen in the scientific manner until Alan Turing, a polymath, was curious about the feasibility of the concept.\n",
      "\n",
      "\n",
      "name: What is Generative AI and How Does it Impact Businesses? | BCG\n",
      "\n",
      "url: https://www.bcg.com/capabilities/artificial-intelligence/generative-ai\n",
      "\n",
      "snippet: Generative AI is a set of algorithms, capable of generating seemingly new, realistic content—such as text, images, or audio—from the training data. The most powerful generative AI algorithms are built on top of foundation models that are trained on a vast quantity of unlabeled data in a self-supervised way to identify underlying patterns ...\n",
      "\n",
      "\n",
      "name: Google Generative AI – Google AI\n",
      "\n",
      "url: https://ai.google/discover/generativeai\n",
      "\n",
      "snippet: Generative AI builds on existing technologies, like large language models (LLMs) which are trained on large amounts of text and learn to predict the next word in a sentence. For example, \"peanut butter and ___\" is more likely to be followed by \"jelly\" than \"shoelace\". Generative AI can not only create new text, but also images, videos, or audio.\n",
      "\n",
      "\n",
      "name: Generative AI Technology in Business | Accenture\n",
      "\n",
      "url: https://www.accenture.com/us-en/insights/technology/generative-ai\n",
      "\n",
      "snippet: March 22, 2023 In brief The technology underpinning ChatGPT will transform work and reinvent business. Advances in language-based AI – the technology that powers applications like ChatGPT – are ushering in a new era for Total Enterprise Reinvention. Everything from science to business to society itself will be transformed.\n",
      "\n",
      "\n",
      "name: IBM is tailoring generative AI for enterprises | IBM Research Blog\n",
      "\n",
      "url: https://research.ibm.com/blog/generative-ai-for-enterprise\n",
      "\n",
      "snippet: 28 Apr 2023 Deep Dive 6 minute read How IBM is tailoring generative AI for enterprises At IBM, we’re developing generative foundation models that are trustworthy, energy efficient, and portable, allowing enterprises to move AI workloads seamlessly between public and private clouds.\n",
      "\n",
      "\n",
      "name: What is Generative AI? | A Comprehensive Generative AI Guide\n",
      "\n",
      "url: https://www.elastic.co/what-is/generative-ai\n",
      "\n",
      "snippet: Generative AI is a technology that can create new and original content like art, music, software code, and writing. When users enter a prompt, artificial intelligence generates responses based on what it has learned from existing examples on the internet, often producing unique and creative results. An explanation for a developer (technical):\n",
      "\n",
      "\n",
      "name: HARNESSING THE VALUE OF GENERATIVE AI - Capgemini\n",
      "\n",
      "url: https://prod.ucwe.capgemini.com/wp-content/uploads/2023/07/Final-Web-Version-Report-Harnessing-the-Value-of-Gen-AI.1.pdf\n",
      "\n",
      "snippet: Introduction Generative artificial intelligence (generative AI) is rapidly transforming the way we interact with technology. Machines are beginning to mimic creative human thought processes, synthesizing tailored content with significant\n",
      "\n",
      "\n",
      "name: What is generative AI? An AI explains - The World Economic Forum\n",
      "\n",
      "url: https://www.weforum.org/agenda/2023/02/generative-ai-explain-algorithms-work/\n",
      "\n",
      "snippet: Generative AI: An Introduction. Generative AI refers to a category of artificial intelligence (AI) algorithms that generate new outputs based on the data they have been trained on. Unlike traditional AI systems that are designed to recognize patterns and make predictions, generative AI creates new content in the form of images, text, audio, and ...\n",
      "\n",
      "\n",
      "name: Introduction to Generative AI - Español | Coursera\n",
      "\n",
      "url: https://www.coursera.org/learn/introduction-to-generative-ai---locales\n",
      "\n",
      "snippet: Introducción a la IA generativa. Module 1 • 42 minutes to complete. Este es un curso introductorio de microaprendizaje destinado a explicar qué es la IA generativa, cómo se utiliza y en qué se diferencia de los métodos de aprendizaje automático tradicionales. También abarca las herramientas de Google para ayudarte a desarrollar tus ...\n",
      "\n",
      "\n",
      "name: What is Generative AI? - Generative Artificial Intelligence Explained - AWS\n",
      "\n",
      "url: https://aws.amazon.com/what-is/generative-ai/\n",
      "\n",
      "snippet: Generative artificial intelligence (generative AI) is a type of AI that can create new content and ideas, including conversations, stories, images, videos, and music. AI technologies attempt to mimic human intelligence in nontraditional computing tasks like image recognition, natural language processing (NLP), and translation.\n",
      "\n",
      "\u001b[32m********************************************************\u001b[0m\n",
      "\n",
      "--------------------------------------------------------------------------------\n",
      "\u001b[33mchatbot\u001b[0m (to user_proxy):\n",
      "\n",
      "Based on the search results, the term \"Generative AI\" appears heavily, which suggests that the main focus of the group 'IA Generativa Sevilla' could be related to Generative Artificial Intelligence. However, the exact focus of this specific group 'IA Generativa Sevilla' is not clearly defined in the search results. Generative AI is a set of algorithms capable of generating seemingly new, realistic content such as text, images, or audio. It learns from the existing examples or training data to identify patterns and create new content ranging from art, music, software code to writing. It even includes conversations, stories, videos, and music.\n",
      "\n",
      "--------------------------------------------------------------------------------\n"
     ]
    }
   ],
   "source": [
    "# start the conversation\n",
    "user_proxy.initiate_chat(\n",
    "    chatbot,\n",
    "    message=\"What is the main focus of the meetup group 'IA Generativa Sevilla'?\",\n",
    "    clear_history=False\n",
    ")"
   ]
  }
 ],
 "metadata": {
  "kernelspec": {
   "display_name": "autogen",
   "language": "python",
   "name": "python3"
  },
  "language_info": {
   "codemirror_mode": {
    "name": "ipython",
    "version": 3
   },
   "file_extension": ".py",
   "mimetype": "text/x-python",
   "name": "python",
   "nbconvert_exporter": "python",
   "pygments_lexer": "ipython3",
   "version": "3.10.12"
  }
 },
 "nbformat": 4,
 "nbformat_minor": 2
}
