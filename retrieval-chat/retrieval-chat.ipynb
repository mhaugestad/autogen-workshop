{
 "cells": [
  {
   "cell_type": "code",
   "execution_count": 2,
   "metadata": {},
   "outputs": [
    {
     "ename": "RuntimeError",
     "evalue": "\u001b[91mYour system has an unsupported version of sqlite3. Chroma                     requires sqlite3 >= 3.35.0.\u001b[0m\n\u001b[94mPlease visit                     https://docs.trychroma.com/troubleshooting#sqlite to learn how                     to upgrade.\u001b[0m",
     "output_type": "error",
     "traceback": [
      "\u001b[0;31m---------------------------------------------------------------------------\u001b[0m",
      "\u001b[0;31mRuntimeError\u001b[0m                              Traceback (most recent call last)",
      "\u001b[1;32m/workspaces/autogen-workshop/retrieval-chat/retrieval-chat.ipynb Cell 1\u001b[0m line \u001b[0;36m4\n\u001b[1;32m      <a href='vscode-notebook-cell://dev-container%2B7b22686f737450617468223a222f55736572732f6d6174686961736861756765737461642f446f63756d656e74732f50726f6a656374732f6175746f67656e2d776f726b73686f70222c226c6f63616c446f636b6572223a66616c73652c22636f6e66696746696c65223a7b22246d6964223a312c22667350617468223a222f55736572732f6d6174686961736861756765737461642f446f63756d656e74732f50726f6a656374732f6175746f67656e2d776f726b73686f702f2e646576636f6e7461696e65722f646576636f6e7461696e65722e6a736f6e222c2265787465726e616c223a2266696c653a2f2f2f55736572732f6d6174686961736861756765737461642f446f63756d656e74732f50726f6a656374732f6175746f67656e2d776f726b73686f702f2e646576636f6e7461696e65722f646576636f6e7461696e65722e6a736f6e222c2270617468223a222f55736572732f6d6174686961736861756765737461642f446f63756d656e74732f50726f6a656374732f6175746f67656e2d776f726b73686f702f2e646576636f6e7461696e65722f646576636f6e7461696e65722e6a736f6e222c22736368656d65223a2266696c65227d7d/workspaces/autogen-workshop/retrieval-chat/retrieval-chat.ipynb#W0sdnNjb2RlLXJlbW90ZQ%3D%3D?line=1'>2</a>\u001b[0m \u001b[39mfrom\u001b[39;00m \u001b[39mautogen\u001b[39;00m \u001b[39mimport\u001b[39;00m config_list_from_json\n\u001b[1;32m      <a href='vscode-notebook-cell://dev-container%2B7b22686f737450617468223a222f55736572732f6d6174686961736861756765737461642f446f63756d656e74732f50726f6a656374732f6175746f67656e2d776f726b73686f70222c226c6f63616c446f636b6572223a66616c73652c22636f6e66696746696c65223a7b22246d6964223a312c22667350617468223a222f55736572732f6d6174686961736861756765737461642f446f63756d656e74732f50726f6a656374732f6175746f67656e2d776f726b73686f702f2e646576636f6e7461696e65722f646576636f6e7461696e65722e6a736f6e222c2265787465726e616c223a2266696c653a2f2f2f55736572732f6d6174686961736861756765737461642f446f63756d656e74732f50726f6a656374732f6175746f67656e2d776f726b73686f702f2e646576636f6e7461696e65722f646576636f6e7461696e65722e6a736f6e222c2270617468223a222f55736572732f6d6174686961736861756765737461642f446f63756d656e74732f50726f6a656374732f6175746f67656e2d776f726b73686f702f2e646576636f6e7461696e65722f646576636f6e7461696e65722e6a736f6e222c22736368656d65223a2266696c65227d7d/workspaces/autogen-workshop/retrieval-chat/retrieval-chat.ipynb#W0sdnNjb2RlLXJlbW90ZQ%3D%3D?line=2'>3</a>\u001b[0m \u001b[39mfrom\u001b[39;00m \u001b[39mautogen\u001b[39;00m\u001b[39m.\u001b[39;00m\u001b[39magentchat\u001b[39;00m\u001b[39m.\u001b[39;00m\u001b[39mcontrib\u001b[39;00m\u001b[39m.\u001b[39;00m\u001b[39mretrieve_assistant_agent\u001b[39;00m \u001b[39mimport\u001b[39;00m RetrieveAssistantAgent\n\u001b[0;32m----> <a href='vscode-notebook-cell://dev-container%2B7b22686f737450617468223a222f55736572732f6d6174686961736861756765737461642f446f63756d656e74732f50726f6a656374732f6175746f67656e2d776f726b73686f70222c226c6f63616c446f636b6572223a66616c73652c22636f6e66696746696c65223a7b22246d6964223a312c22667350617468223a222f55736572732f6d6174686961736861756765737461642f446f63756d656e74732f50726f6a656374732f6175746f67656e2d776f726b73686f702f2e646576636f6e7461696e65722f646576636f6e7461696e65722e6a736f6e222c2265787465726e616c223a2266696c653a2f2f2f55736572732f6d6174686961736861756765737461642f446f63756d656e74732f50726f6a656374732f6175746f67656e2d776f726b73686f702f2e646576636f6e7461696e65722f646576636f6e7461696e65722e6a736f6e222c2270617468223a222f55736572732f6d6174686961736861756765737461642f446f63756d656e74732f50726f6a656374732f6175746f67656e2d776f726b73686f702f2e646576636f6e7461696e65722f646576636f6e7461696e65722e6a736f6e222c22736368656d65223a2266696c65227d7d/workspaces/autogen-workshop/retrieval-chat/retrieval-chat.ipynb#W0sdnNjb2RlLXJlbW90ZQ%3D%3D?line=3'>4</a>\u001b[0m \u001b[39mfrom\u001b[39;00m \u001b[39mautogen\u001b[39;00m\u001b[39m.\u001b[39;00m\u001b[39magentchat\u001b[39;00m\u001b[39m.\u001b[39;00m\u001b[39mcontrib\u001b[39;00m\u001b[39m.\u001b[39;00m\u001b[39mqdrant_retrieve_user_proxy_agent\u001b[39;00m \u001b[39mimport\u001b[39;00m QdrantRetrieveUserProxyAgent\n\u001b[1;32m      <a href='vscode-notebook-cell://dev-container%2B7b22686f737450617468223a222f55736572732f6d6174686961736861756765737461642f446f63756d656e74732f50726f6a656374732f6175746f67656e2d776f726b73686f70222c226c6f63616c446f636b6572223a66616c73652c22636f6e66696746696c65223a7b22246d6964223a312c22667350617468223a222f55736572732f6d6174686961736861756765737461642f446f63756d656e74732f50726f6a656374732f6175746f67656e2d776f726b73686f702f2e646576636f6e7461696e65722f646576636f6e7461696e65722e6a736f6e222c2265787465726e616c223a2266696c653a2f2f2f55736572732f6d6174686961736861756765737461642f446f63756d656e74732f50726f6a656374732f6175746f67656e2d776f726b73686f702f2e646576636f6e7461696e65722f646576636f6e7461696e65722e6a736f6e222c2270617468223a222f55736572732f6d6174686961736861756765737461642f446f63756d656e74732f50726f6a656374732f6175746f67656e2d776f726b73686f702f2e646576636f6e7461696e65722f646576636f6e7461696e65722e6a736f6e222c22736368656d65223a2266696c65227d7d/workspaces/autogen-workshop/retrieval-chat/retrieval-chat.ipynb#W0sdnNjb2RlLXJlbW90ZQ%3D%3D?line=4'>5</a>\u001b[0m \u001b[39mfrom\u001b[39;00m \u001b[39mqdrant_client\u001b[39;00m \u001b[39mimport\u001b[39;00m QdrantClient\n",
      "File \u001b[0;32m/usr/local/lib/python3.10/site-packages/autogen/agentchat/contrib/qdrant_retrieve_user_proxy_agent.py:3\u001b[0m\n\u001b[1;32m      1\u001b[0m \u001b[39mfrom\u001b[39;00m \u001b[39mtyping\u001b[39;00m \u001b[39mimport\u001b[39;00m Callable, Dict, List, Optional\n\u001b[0;32m----> 3\u001b[0m \u001b[39mfrom\u001b[39;00m \u001b[39mautogen\u001b[39;00m\u001b[39m.\u001b[39;00m\u001b[39magentchat\u001b[39;00m\u001b[39m.\u001b[39;00m\u001b[39mcontrib\u001b[39;00m\u001b[39m.\u001b[39;00m\u001b[39mretrieve_user_proxy_agent\u001b[39;00m \u001b[39mimport\u001b[39;00m RetrieveUserProxyAgent\n\u001b[1;32m      4\u001b[0m \u001b[39mfrom\u001b[39;00m \u001b[39mautogen\u001b[39;00m\u001b[39m.\u001b[39;00m\u001b[39mretrieve_utils\u001b[39;00m \u001b[39mimport\u001b[39;00m get_files_from_dir, split_files_to_chunks, TEXT_FORMATS\n\u001b[1;32m      5\u001b[0m \u001b[39mimport\u001b[39;00m \u001b[39mlogging\u001b[39;00m\n",
      "File \u001b[0;32m/usr/local/lib/python3.10/site-packages/autogen/agentchat/contrib/retrieve_user_proxy_agent.py:4\u001b[0m\n\u001b[1;32m      1\u001b[0m \u001b[39mimport\u001b[39;00m \u001b[39mre\u001b[39;00m\n\u001b[1;32m      3\u001b[0m \u001b[39mtry\u001b[39;00m:\n\u001b[0;32m----> 4\u001b[0m     \u001b[39mimport\u001b[39;00m \u001b[39mchromadb\u001b[39;00m\n\u001b[1;32m      5\u001b[0m \u001b[39mexcept\u001b[39;00m \u001b[39mImportError\u001b[39;00m:\n\u001b[1;32m      6\u001b[0m     \u001b[39mraise\u001b[39;00m \u001b[39mImportError\u001b[39;00m(\u001b[39m\"\u001b[39m\u001b[39mPlease install dependencies first. `pip install pyautogen[retrievechat]`\u001b[39m\u001b[39m\"\u001b[39m)\n",
      "File \u001b[0;32m/usr/local/lib/python3.10/site-packages/chromadb/__init__.py:78\u001b[0m\n\u001b[1;32m     76\u001b[0m             sys\u001b[39m.\u001b[39mmodules[\u001b[39m\"\u001b[39m\u001b[39msqlite3\u001b[39m\u001b[39m\"\u001b[39m] \u001b[39m=\u001b[39m sys\u001b[39m.\u001b[39mmodules\u001b[39m.\u001b[39mpop(\u001b[39m\"\u001b[39m\u001b[39mpysqlite3\u001b[39m\u001b[39m\"\u001b[39m)\n\u001b[1;32m     77\u001b[0m         \u001b[39melse\u001b[39;00m:\n\u001b[0;32m---> 78\u001b[0m             \u001b[39mraise\u001b[39;00m \u001b[39mRuntimeError\u001b[39;00m(\n\u001b[1;32m     79\u001b[0m                 \u001b[39m\"\u001b[39m\u001b[39m\\033\u001b[39;00m\u001b[39m[91mYour system has an unsupported version of sqlite3. Chroma \u001b[39m\u001b[39m\\\u001b[39;00m\n\u001b[1;32m     80\u001b[0m \u001b[39m                    requires sqlite3 >= 3.35.0.\u001b[39m\u001b[39m\\033\u001b[39;00m\u001b[39m[0m\u001b[39m\u001b[39m\\n\u001b[39;00m\u001b[39m\"\u001b[39m\n\u001b[1;32m     81\u001b[0m                 \u001b[39m\"\u001b[39m\u001b[39m\\033\u001b[39;00m\u001b[39m[94mPlease visit \u001b[39m\u001b[39m\\\u001b[39;00m\n\u001b[1;32m     82\u001b[0m \u001b[39m                    https://docs.trychroma.com/troubleshooting#sqlite to learn how \u001b[39m\u001b[39m\\\u001b[39;00m\n\u001b[1;32m     83\u001b[0m \u001b[39m                    to upgrade.\u001b[39m\u001b[39m\\033\u001b[39;00m\u001b[39m[0m\u001b[39m\u001b[39m\"\u001b[39m\n\u001b[1;32m     84\u001b[0m             )\n\u001b[1;32m     87\u001b[0m \u001b[39mdef\u001b[39;00m \u001b[39mconfigure\u001b[39m(\u001b[39m*\u001b[39m\u001b[39m*\u001b[39mkwargs) \u001b[39m-\u001b[39m\u001b[39m>\u001b[39m \u001b[39mNone\u001b[39;00m:  \u001b[39m# type: ignore\u001b[39;00m\n\u001b[1;32m     88\u001b[0m \u001b[39m    \u001b[39m\u001b[39m\"\"\"Override Chroma's default settings, environment variables or .env files\"\"\"\u001b[39;00m\n",
      "\u001b[0;31mRuntimeError\u001b[0m: \u001b[91mYour system has an unsupported version of sqlite3. Chroma                     requires sqlite3 >= 3.35.0.\u001b[0m\n\u001b[94mPlease visit                     https://docs.trychroma.com/troubleshooting#sqlite to learn how                     to upgrade.\u001b[0m"
     ]
    }
   ],
   "source": [
    "# https://github.com/microsoft/autogen/issues/251\n",
    "\n",
    "import autogen\n",
    "from autogen import config_list_from_json\n",
    "from autogen.agentchat.contrib.retrieve_assistant_agent import RetrieveAssistantAgent\n",
    "from autogen.agentchat.contrib.qdrant_retrieve_user_proxy_agent import QdrantRetrieveUserProxyAgent\n",
    "from qdrant_client import QdrantClient"
   ]
  },
  {
   "cell_type": "code",
   "execution_count": null,
   "metadata": {},
   "outputs": [],
   "source": [
    "config_list = config_list_from_json(env_or_file = \"../OAI_CONFIG_LIST\")"
   ]
  },
  {
   "cell_type": "code",
   "execution_count": null,
   "metadata": {},
   "outputs": [],
   "source": [
    "assistant = RetrieveAssistantAgent(\n",
    "    name=\"assistant\",\n",
    "    system_message=\"You are a helpful assistant.\",\n",
    "    llm_config={\n",
    "        \"timeout\": 600,\n",
    "        \"cache_seed\": 42,\n",
    "        \"config_list\": config_list,\n",
    "    },\n",
    ")"
   ]
  }
 ],
 "metadata": {
  "kernelspec": {
   "display_name": "Python 3",
   "language": "python",
   "name": "python3"
  },
  "language_info": {
   "codemirror_mode": {
    "name": "ipython",
    "version": 3
   },
   "file_extension": ".py",
   "mimetype": "text/x-python",
   "name": "python",
   "nbconvert_exporter": "python",
   "pygments_lexer": "ipython3",
   "version": "3.10.6"
  }
 },
 "nbformat": 4,
 "nbformat_minor": 2
}
